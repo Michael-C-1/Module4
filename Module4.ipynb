{
  "nbformat": 4,
  "nbformat_minor": 0,
  "metadata": {
    "colab": {
      "name": "Untitled1.ipynb",
      "provenance": []
    },
    "kernelspec": {
      "name": "python3",
      "display_name": "Python 3"
    }
  },
  "cells": [
    {
      "cell_type": "code",
      "metadata": {
        "id": "HnX9jfWhG3k2",
        "colab_type": "code",
        "colab": {
          "base_uri": "https://localhost:8080/",
          "height": 51
        },
        "outputId": "206fde63-d19a-4a01-d0a5-86c33dd37234"
      },
      "source": [
        "x = int(input('How many packages did you get?'))\n",
        "NO_DISCOUNT = 0\n",
        "ten_discount = int(99*x/10)\n",
        "twenty_discount = int(99*x/5)\n",
        "thirty_discount = int(99*x*3/10)\n",
        "forty_discount = int(99*x*2/5)\n",
        "if x >= 0 and x <= 9:\n",
        "  print('0', 99*x)\n",
        "elif x >= 10 and x <= 19:\n",
        "  print(99*x/10, 9*99*x/10)\n",
        "elif x >= 20 and x <= 49:\n",
        "  print(99*x/5, 4*99*x/5)\n",
        "elif x >= 50 and x <= 99:\n",
        "  print(3*99*x/10, 7*99*x/10)\n",
        "elif x >= 100:\n",
        "  print(2*99*x/5, 3*99*x/5)\n",
        "if x<0:\n",
        "  print('This is an invalid input')"
      ],
      "execution_count": 33,
      "outputs": [
        {
          "output_type": "stream",
          "text": [
            "How many packages did you get?20\n",
            "396.0 1584.0\n"
          ],
          "name": "stdout"
        }
      ]
    }
  ]
}