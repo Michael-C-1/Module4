{
  "nbformat": 4,
  "nbformat_minor": 0,
  "metadata": {
    "colab": {
      "name": "Untitled",
      "provenance": [],
      "collapsed_sections": []
    },
    "kernelspec": {
      "name": "python3",
      "display_name": "Python 3"
    }
  },
  "cells": [
    {
      "cell_type": "markdown",
      "metadata": {
        "id": "mrgH0d4M2Owa",
        "colab_type": "text"
      },
      "source": [
        "#Discounts\n",
        "\n",
        "The user inputs a number of packages and this determines the discount and the discounted price of the purchase"
      ]
    },
    {
      "cell_type": "code",
      "metadata": {
        "id": "HnX9jfWhG3k2",
        "colab_type": "code",
        "colab": {
          "base_uri": "https://localhost:8080/",
          "height": 51
        },
        "outputId": "7220cdd0-5f21-4313-ee3f-70f31b7b7655"
      },
      "source": [
        "x = int(input('How many packages did you get?'))\n",
        "price = 99*x\n",
        "NO_DISCOUNT = 0\n",
        "ten_discount = int(price/10)\n",
        "twenty_discount = int(price/5)\n",
        "thirty_discount = int(price*3/10)\n",
        "forty_discount = int(price*2/5)\n",
        "if x >= 0 and x <= 9:\n",
        "  print(f'{NO_DISCOUNT:.2f}, {price:.2f}')\n",
        "elif x >= 10 and x <= 19:\n",
        "  print(f'{ten_discount:.2f}, {9*ten_discount:.2f}')\n",
        "elif x >= 20 and x <= 49:\n",
        "  print(f'{twenty_discount:.2f}, {4*twenty_discount:.2f}')\n",
        "elif x >= 50 and x <= 99:\n",
        "  print(f'{thirty_discount:.2f}, {7*thirty_discount/3:.2f}')\n",
        "elif x >= 100:\n",
        "  print(f'{forty_discount:.2f}, {3*forty_discount/2:.2f}')\n",
        "if x<0:\n",
        "  print('This is an invalid input')"
      ],
      "execution_count": 55,
      "outputs": [
        {
          "output_type": "stream",
          "text": [
            "How many packages did you get?100\n",
            "3960.00, 5940.00\n"
          ],
          "name": "stdout"
        }
      ]
    },
    {
      "cell_type": "markdown",
      "metadata": {
        "id": "BBYUBxLV_93W",
        "colab_type": "text"
      },
      "source": [
        "#Shipping Rates\n",
        "\n",
        "The user inputs a number of pounds and this determines the shipping costs"
      ]
    },
    {
      "cell_type": "code",
      "metadata": {
        "id": "fu_Ac0WW2N_4",
        "colab_type": "code",
        "colab": {
          "base_uri": "https://localhost:8080/",
          "height": 51
        },
        "outputId": "ceaae3e6-8701-4b56-d9ef-f57a48b00511"
      },
      "source": [
        "x=int(input('How many pounds are you shipping?'))\n",
        "\n",
        "if x>=0 and x<=2:\n",
        "  print('$1.50')\n",
        "elif x>2 and x<=6:\n",
        "  print('$3.00')\n",
        "elif x>6 and x<=10:\n",
        "  print('$4.00')\n",
        "elif x>10:\n",
        "  print('$4.75')\n",
        "else:\n",
        "  print('This is an invalid input')"
      ],
      "execution_count": 60,
      "outputs": [
        {
          "output_type": "stream",
          "text": [
            "How many pounds are you shipping?11\n",
            "$4.75\n"
          ],
          "name": "stdout"
        }
      ]
    }
  ]
}