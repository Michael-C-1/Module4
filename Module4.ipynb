{
  "nbformat": 4,
  "nbformat_minor": 0,
  "metadata": {
    "colab": {
      "name": "Untitled",
      "provenance": [],
      "collapsed_sections": [],
      "authorship_tag": "ABX9TyNK8M5Ap4dHiv/BFsMB0zx9",
      "include_colab_link": true
    },
    "kernelspec": {
      "name": "python3",
      "display_name": "Python 3"
    }
  },
  "cells": [
    {
      "cell_type": "markdown",
      "metadata": {
        "id": "view-in-github",
        "colab_type": "text"
      },
      "source": [
        "<a href=\"https://colab.research.google.com/github/Michael-C-1/Module4/blob/master/Module4.ipynb\" target=\"_parent\"><img src=\"https://colab.research.google.com/assets/colab-badge.svg\" alt=\"Open In Colab\"/></a>"
      ]
    },
    {
      "cell_type": "markdown",
      "metadata": {
        "id": "mrgH0d4M2Owa",
        "colab_type": "text"
      },
      "source": [
        ""
      ]
    },
    {
      "cell_type": "code",
      "metadata": {
        "id": "HnX9jfWhG3k2",
        "colab_type": "code",
        "colab": {
          "base_uri": "https://localhost:8080/",
          "height": 51
        },
        "outputId": "7220cdd0-5f21-4313-ee3f-70f31b7b7655"
      },
      "source": [
        "x = int(input('How many packages did you get?'))\n",
        "price = 99*x\n",
        "NO_DISCOUNT = 0\n",
        "ten_discount = int(price/10)\n",
        "twenty_discount = int(price/5)\n",
        "thirty_discount = int(price*3/10)\n",
        "forty_discount = int(price*2/5)\n",
        "if x >= 0 and x <= 9:\n",
        "  print(f'{NO_DISCOUNT:.2f}, {price:.2f}')\n",
        "elif x >= 10 and x <= 19:\n",
        "  print(f'{ten_discount:.2f}, {9*ten_discount:.2f}')\n",
        "elif x >= 20 and x <= 49:\n",
        "  print(f'{twenty_discount:.2f}, {4*twenty_discount:.2f}')\n",
        "elif x >= 50 and x <= 99:\n",
        "  print(f'{thirty_discount:.2f}, {7*thirty_discount/3:.2f}')\n",
        "elif x >= 100:\n",
        "  print(f'{forty_discount:.2f}, {3*forty_discount/2:.2f}')\n",
        "if x<0:\n",
        "  print('This is an invalid input')"
      ],
      "execution_count": 55,
      "outputs": [
        {
          "output_type": "stream",
          "text": [
            "How many packages did you get?100\n",
            "3960.00, 5940.00\n"
          ],
          "name": "stdout"
        }
      ]
    },
    {
      "cell_type": "markdown",
      "metadata": {
        "id": "QB8r5NNu2Pn3",
        "colab_type": "text"
      },
      "source": [
        ""
      ]
    },
    {
      "cell_type": "code",
      "metadata": {
        "id": "fu_Ac0WW2N_4",
        "colab_type": "code",
        "colab": {}
      },
      "source": [
        ""
      ],
      "execution_count": null,
      "outputs": []
    }
  ]
}